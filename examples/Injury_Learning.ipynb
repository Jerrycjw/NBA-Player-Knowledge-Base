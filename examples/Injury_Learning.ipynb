{
 "cells": [
  {
   "cell_type": "code",
   "execution_count": 1,
   "metadata": {
    "collapsed": false
   },
   "outputs": [],
   "source": [
    "%load_ext autoreload\n",
    "%autoreload 2\n",
    "\n",
    "import cPickle, os, sys\n",
    "sys.path.insert(1, os.path.join(sys.path[0], '..'))\n",
    "\n",
    "from ddlite import *\n",
    "\n",
    "%matplotlib inline\n",
    "matplotlib.rcParams['figure.figsize'] = (18,6)"
   ]
  },
  {
   "cell_type": "code",
   "execution_count": 20,
   "metadata": {
    "collapsed": false
   },
   "outputs": [
    {
     "ename": "TypeError",
     "evalue": "super(type, obj): obj must be an instance or subtype of type",
     "output_type": "error",
     "traceback": [
      "\u001b[0;31m---------------------------------------------------------------------------\u001b[0m",
      "\u001b[0;31mTypeError\u001b[0m                                 Traceback (most recent call last)",
      "\u001b[0;32m<ipython-input-20-6429d19a3728>\u001b[0m in \u001b[0;36m<module>\u001b[0;34m()\u001b[0m\n\u001b[0;32m----> 1\u001b[0;31m \u001b[0mR\u001b[0m \u001b[0;34m=\u001b[0m \u001b[0mRelations\u001b[0m\u001b[0;34m(\u001b[0m\u001b[0;34m'/Users/Jerry/Documents/CMPS290H/Project/data/temp/relation_saved_send_v1.pkl'\u001b[0m\u001b[0;34m)\u001b[0m\u001b[0;34m\u001b[0m\u001b[0m\n\u001b[0m",
      "\u001b[0;32m/Users/Jerry/Documents/CMPS290H/ddlite/ddlite.py\u001b[0m in \u001b[0;36m__init__\u001b[0;34m(self, content, matcher1, matcher2)\u001b[0m\n\u001b[1;32m    237\u001b[0m       \u001b[0mself\u001b[0m\u001b[0;34m.\u001b[0m\u001b[0me1\u001b[0m \u001b[0;34m=\u001b[0m \u001b[0mmatcher1\u001b[0m\u001b[0;34m\u001b[0m\u001b[0m\n\u001b[1;32m    238\u001b[0m       \u001b[0mself\u001b[0m\u001b[0;34m.\u001b[0m\u001b[0me2\u001b[0m \u001b[0;34m=\u001b[0m \u001b[0mmatcher2\u001b[0m\u001b[0;34m\u001b[0m\u001b[0m\n\u001b[0;32m--> 239\u001b[0;31m     \u001b[0msuper\u001b[0m\u001b[0;34m(\u001b[0m\u001b[0mRelations\u001b[0m\u001b[0;34m,\u001b[0m \u001b[0mself\u001b[0m\u001b[0;34m)\u001b[0m\u001b[0;34m.\u001b[0m\u001b[0m__init__\u001b[0m\u001b[0;34m(\u001b[0m\u001b[0mcontent\u001b[0m\u001b[0;34m)\u001b[0m\u001b[0;34m\u001b[0m\u001b[0m\n\u001b[0m\u001b[1;32m    240\u001b[0m \u001b[0;34m\u001b[0m\u001b[0m\n\u001b[1;32m    241\u001b[0m   \u001b[0;32mdef\u001b[0m \u001b[0m__getitem__\u001b[0m\u001b[0;34m(\u001b[0m\u001b[0mself\u001b[0m\u001b[0;34m,\u001b[0m \u001b[0mi\u001b[0m\u001b[0;34m)\u001b[0m\u001b[0;34m:\u001b[0m\u001b[0;34m\u001b[0m\u001b[0m\n",
      "\u001b[0;31mTypeError\u001b[0m: super(type, obj): obj must be an instance or subtype of type"
     ]
    }
   ],
   "source": [
    "R = Relations('/Users/Jerry/Documents/CMPS290H/Project/data/temp/relation_saved_send_v1.pkl')"
   ]
  },
  {
   "cell_type": "code",
   "execution_count": 16,
   "metadata": {
    "collapsed": false
   },
   "outputs": [
    {
     "data": {
      "text/html": [
       "<style>\n",
       ".node {\n",
       "  cursor: pointer;\n",
       "}\n",
       "\n",
       ".node circle {\n",
       "  fill: #fff;\n",
       "  stroke: steelblue;\n",
       "  stroke-width: 3px;\n",
       "}\n",
       "\n",
       ".node text {\n",
       "  font: 12px sans-serif;\n",
       "}\n",
       "\n",
       ".edge {\n",
       "  fill: none;\n",
       "  stroke: #ccc;\n",
       "  stroke-width: 2px;\n",
       "  cursor: pointer;\n",
       "}\n",
       "\n",
       ".highlight {\n",
       "  stroke: red;\n",
       "  stroke-width: 3px;\n",
       "}\n",
       "</style>\n",
       "\n",
       "<!--Provide the canvas id (twice) and the words via python string formatting here--!>\n",
       "<div id=\"tree-chart-5870945333907971888\"></div>\n",
       "<div id=\"raw-seq-5870945333907971888\">\n",
       "<span class=\"word-5870945333907971888-0\">--</span> <span class=\"word-5870945333907971888-1\">Jimmy</span> <span class=\"word-5870945333907971888-2\">Butler</span> <span class=\"word-5870945333907971888-3\">'s</span> <span class=\"word-5870945333907971888-4\">return</span> <span class=\"word-5870945333907971888-5\">from</span> <span class=\"word-5870945333907971888-6\">a</span> <span class=\"word-5870945333907971888-7\">knee</span> <span class=\"word-5870945333907971888-8\">injury</span> <span class=\"word-5870945333907971888-9\">lasted</span> <span class=\"word-5870945333907971888-10\">all</span> <span class=\"word-5870945333907971888-11\">of</span> <span class=\"word-5870945333907971888-12\">one</span> <span class=\"word-5870945333907971888-13\">game</span> <span class=\"word-5870945333907971888-14\">,</span> <span class=\"word-5870945333907971888-15\">and</span> <span class=\"word-5870945333907971888-16\">the</span> <span class=\"word-5870945333907971888-17\">Chicago</span> <span class=\"word-5870945333907971888-18\">Bulls</span> <span class=\"word-5870945333907971888-19\">are</span> <span class=\"word-5870945333907971888-20\">n't</span> <span class=\"word-5870945333907971888-21\">sure</span> <span class=\"word-5870945333907971888-22\">when</span> <span class=\"word-5870945333907971888-23\">the</span> <span class=\"word-5870945333907971888-24\">All-Star</span> <span class=\"word-5870945333907971888-25\">guard</span> <span class=\"word-5870945333907971888-26\">will</span> <span class=\"word-5870945333907971888-27\">be</span> <span class=\"word-5870945333907971888-28\">able</span> <span class=\"word-5870945333907971888-29\">to</span> <span class=\"word-5870945333907971888-30\">play</span> <span class=\"word-5870945333907971888-31\">again</span> <span class=\"word-5870945333907971888-32\">.</span>\n",
       "</div>\n"
      ]
     },
     "metadata": {},
     "output_type": "display_data"
    },
    {
     "data": {
      "application/javascript": [
       "$.getScript(\"http://d3js.org/d3.v3.min.js\", function () {\n",
       "// See http://bl.ocks.org/d3noob/8375092\n",
       "// Three vars need to be provided via python string formatting:\n",
       "var chartId = \"5870945333907971888\";\n",
       "var root = {\"attrib\": {\"token_idx\": \"43\", \"word\": \"lasted\", \"dep_label\": \"ROOT\", \"pos\": \"VBD\", \"lemma\": \"last\", \"word_idx\": \"9\", \"dep_parent\": \"0\"}, \"children\": [{\"attrib\": {\"token_idx\": \"0\", \"word\": \"--\", \"dep_label\": \"punct\", \"pos\": \":\", \"lemma\": \"--\", \"word_idx\": \"0\", \"dep_parent\": \"10\"}, \"children\": []}, {\"attrib\": {\"token_idx\": \"17\", \"word\": \"return\", \"dep_label\": \"nsubj\", \"pos\": \"NN\", \"lemma\": \"return\", \"word_idx\": \"4\", \"dep_parent\": \"10\"}, \"children\": [{\"attrib\": {\"token_idx\": \"8\", \"word\": \"Butler\", \"dep_label\": \"nmod:poss\", \"pos\": \"NNP\", \"lemma\": \"Butler\", \"word_idx\": \"2\", \"dep_parent\": \"5\"}, \"children\": [{\"attrib\": {\"token_idx\": \"2\", \"word\": \"Jimmy\", \"dep_label\": \"compound\", \"pos\": \"NNP\", \"lemma\": \"Jimmy\", \"word_idx\": \"1\", \"dep_parent\": \"3\"}, \"children\": []}, {\"attrib\": {\"token_idx\": \"14\", \"word\": \"'s\", \"dep_label\": \"case\", \"pos\": \"POS\", \"lemma\": \"'s\", \"word_idx\": \"3\", \"dep_parent\": \"3\"}, \"children\": []}]}, {\"attrib\": {\"token_idx\": \"36\", \"word\": \"injury\", \"dep_label\": \"nmod\", \"pos\": \"NN\", \"lemma\": \"injury\", \"word_idx\": \"8\", \"dep_parent\": \"5\"}, \"children\": [{\"attrib\": {\"token_idx\": \"24\", \"word\": \"from\", \"dep_label\": \"case\", \"pos\": \"IN\", \"lemma\": \"from\", \"word_idx\": \"5\", \"dep_parent\": \"9\"}, \"children\": []}, {\"attrib\": {\"token_idx\": \"29\", \"word\": \"a\", \"dep_label\": \"det\", \"pos\": \"DT\", \"lemma\": \"a\", \"word_idx\": \"6\", \"dep_parent\": \"9\"}, \"children\": []}, {\"attrib\": {\"token_idx\": \"31\", \"word\": \"knee\", \"dep_label\": \"compound\", \"pos\": \"NN\", \"lemma\": \"knee\", \"word_idx\": \"7\", \"dep_parent\": \"9\"}, \"children\": []}]}]}, {\"attrib\": {\"token_idx\": \"50\", \"word\": \"all\", \"dep_label\": \"dobj\", \"pos\": \"DT\", \"lemma\": \"all\", \"word_idx\": \"10\", \"dep_parent\": \"10\"}, \"children\": [{\"attrib\": {\"token_idx\": \"61\", \"word\": \"game\", \"dep_label\": \"nmod\", \"pos\": \"NN\", \"lemma\": \"game\", \"word_idx\": \"13\", \"dep_parent\": \"11\"}, \"children\": [{\"attrib\": {\"token_idx\": \"54\", \"word\": \"of\", \"dep_label\": \"case\", \"pos\": \"IN\", \"lemma\": \"of\", \"word_idx\": \"11\", \"dep_parent\": \"14\"}, \"children\": []}, {\"attrib\": {\"token_idx\": \"57\", \"word\": \"one\", \"dep_label\": \"nummod\", \"pos\": \"CD\", \"lemma\": \"one\", \"word_idx\": \"12\", \"dep_parent\": \"14\"}, \"children\": []}]}]}, {\"attrib\": {\"token_idx\": \"65\", \"word\": \",\", \"dep_label\": \"punct\", \"pos\": \",\", \"lemma\": \",\", \"word_idx\": \"14\", \"dep_parent\": \"10\"}, \"children\": []}, {\"attrib\": {\"token_idx\": \"67\", \"word\": \"and\", \"dep_label\": \"cc\", \"pos\": \"CC\", \"lemma\": \"and\", \"word_idx\": \"15\", \"dep_parent\": \"10\"}, \"children\": []}, {\"attrib\": {\"token_idx\": \"96\", \"word\": \"sure\", \"dep_label\": \"conj\", \"pos\": \"JJ\", \"lemma\": \"sure\", \"word_idx\": \"21\", \"dep_parent\": \"10\"}, \"children\": [{\"attrib\": {\"token_idx\": \"83\", \"word\": \"Bulls\", \"dep_label\": \"nsubj\", \"pos\": \"NNPS\", \"lemma\": \"Bulls\", \"word_idx\": \"18\", \"dep_parent\": \"22\"}, \"children\": [{\"attrib\": {\"token_idx\": \"71\", \"word\": \"the\", \"dep_label\": \"det\", \"pos\": \"DT\", \"lemma\": \"the\", \"word_idx\": \"16\", \"dep_parent\": \"19\"}, \"children\": []}, {\"attrib\": {\"token_idx\": \"75\", \"word\": \"Chicago\", \"dep_label\": \"compound\", \"pos\": \"NNP\", \"lemma\": \"Chicago\", \"word_idx\": \"17\", \"dep_parent\": \"19\"}, \"children\": []}]}, {\"attrib\": {\"token_idx\": \"89\", \"word\": \"are\", \"dep_label\": \"cop\", \"pos\": \"VBP\", \"lemma\": \"be\", \"word_idx\": \"19\", \"dep_parent\": \"22\"}, \"children\": []}, {\"attrib\": {\"token_idx\": \"92\", \"word\": \"n't\", \"dep_label\": \"neg\", \"pos\": \"RB\", \"lemma\": \"not\", \"word_idx\": \"20\", \"dep_parent\": \"22\"}, \"children\": []}, {\"attrib\": {\"token_idx\": \"133\", \"word\": \"able\", \"dep_label\": \"advcl\", \"pos\": \"JJ\", \"lemma\": \"able\", \"word_idx\": \"28\", \"dep_parent\": \"22\"}, \"children\": [{\"attrib\": {\"token_idx\": \"101\", \"word\": \"when\", \"dep_label\": \"advmod\", \"pos\": \"WRB\", \"lemma\": \"when\", \"word_idx\": \"22\", \"dep_parent\": \"29\"}, \"children\": []}, {\"attrib\": {\"token_idx\": \"119\", \"word\": \"guard\", \"dep_label\": \"nsubj\", \"pos\": \"NN\", \"lemma\": \"guard\", \"word_idx\": \"25\", \"dep_parent\": \"29\"}, \"children\": [{\"attrib\": {\"token_idx\": \"106\", \"word\": \"the\", \"dep_label\": \"det\", \"pos\": \"DT\", \"lemma\": \"the\", \"word_idx\": \"23\", \"dep_parent\": \"26\"}, \"children\": []}, {\"attrib\": {\"token_idx\": \"110\", \"word\": \"All-Star\", \"dep_label\": \"compound\", \"pos\": \"NNP\", \"lemma\": \"All-Star\", \"word_idx\": \"24\", \"dep_parent\": \"26\"}, \"children\": []}]}, {\"attrib\": {\"token_idx\": \"125\", \"word\": \"will\", \"dep_label\": \"aux\", \"pos\": \"MD\", \"lemma\": \"will\", \"word_idx\": \"26\", \"dep_parent\": \"29\"}, \"children\": []}, {\"attrib\": {\"token_idx\": \"130\", \"word\": \"be\", \"dep_label\": \"cop\", \"pos\": \"VB\", \"lemma\": \"be\", \"word_idx\": \"27\", \"dep_parent\": \"29\"}, \"children\": []}, {\"attrib\": {\"token_idx\": \"141\", \"word\": \"play\", \"dep_label\": \"xcomp\", \"pos\": \"VB\", \"lemma\": \"play\", \"word_idx\": \"30\", \"dep_parent\": \"29\"}, \"children\": [{\"attrib\": {\"token_idx\": \"138\", \"word\": \"to\", \"dep_label\": \"mark\", \"pos\": \"TO\", \"lemma\": \"to\", \"word_idx\": \"29\", \"dep_parent\": \"31\"}, \"children\": []}, {\"attrib\": {\"token_idx\": \"146\", \"word\": \"again\", \"dep_label\": \"advmod\", \"pos\": \"RB\", \"lemma\": \"again\", \"word_idx\": \"31\", \"dep_parent\": \"31\"}, \"children\": []}]}]}]}, {\"attrib\": {\"token_idx\": \"151\", \"word\": \".\", \"dep_label\": \"punct\", \"pos\": \".\", \"lemma\": \".\", \"word_idx\": \"32\", \"dep_parent\": \"10\"}, \"children\": []}]};\n",
       "var highlightIdxs = [[1, 2], [7]];\n",
       "\n",
       "// Highlight words / nodes\n",
       "var COLORS = [\"#ff5c33\", \"#ffcc00\", \"#33cc33\", \"#3399ff\"];\n",
       "function highlightWords() {\n",
       "  for (var i=0; i < highlightIdxs.length; i++) {\n",
       "    var c = COLORS[i];\n",
       "    var idxs = highlightIdxs[i];\n",
       "    for (var j=0; j < idxs.length; j++) {\n",
       "      d3.selectAll(\".word-\"+chartId+\"-\"+idxs[j]).style(\"stroke\", c).style(\"background\", c);\n",
       "    }\n",
       "  }\n",
       "}\n",
       "\n",
       "// Constants\n",
       "var margin = {top: 20, right: 20, bottom: 20, left: 20},\n",
       "width = 800 - margin.left - margin.right,\n",
       "height = 350 - margin.top - margin.bottom,\n",
       "R = 5;\n",
       "\n",
       "// Create the d3 tree object\n",
       "var tree = d3.layout.tree()\n",
       "  .size([width, height]);\n",
       "\n",
       "// Create the svg canvas\n",
       "var svg = d3.select(\"#tree-chart-\" + chartId)\n",
       "  .append(\"svg\")\n",
       "  .attr(\"width\", width + margin.left + margin.right)\n",
       "  .attr(\"height\", height + margin.top + margin.bottom)\n",
       "  .append(\"g\")\n",
       "  .attr(\"transform\", \"translate(\" + margin.left + \",\" + margin.top + \")\");\n",
       "\n",
       "function renderTree() {\n",
       "  var nodes = tree.nodes(root),\n",
       "  edges = tree.links(nodes);\n",
       "\n",
       "  // Place the nodes\n",
       "  var nodeGroups = svg.selectAll(\"g.node\")\n",
       "    .data(nodes)\n",
       "    .enter().append(\"g\")\n",
       "    .attr(\"class\", \"node\")\n",
       "    .attr(\"transform\", function(d) { return \"translate(\" + d.x + \",\" + d.y + \")\"; });\n",
       "       \n",
       "  // Append circles\n",
       "  nodeGroups.append(\"circle\")\n",
       "    //.on(\"click\", function() {\n",
       "    //  d3.select(this).classed(\"highlight\", !d3.select(this).classed(\"highlight\")); })\n",
       "    .attr(\"r\", R)\n",
       "    .attr(\"class\", function(d) { return \"word-\"+chartId+\"-\"+d.attrib.word_idx; });\n",
       "     \n",
       "  // Append the actual word\n",
       "  nodeGroups.append(\"text\")\n",
       "    .text(function(d) { return d.attrib.word; })\n",
       "    .attr(\"text-anchor\", function(d) { \n",
       "      return d.children && d.children.length > 0 ? \"start\" : \"middle\"; })\n",
       "    .attr(\"dx\", function(d) { \n",
       "      return d.children && d.children.length > 0 ? R + 3 : 0; })\n",
       "    .attr(\"dy\", function(d) { \n",
       "      return d.children && d.children.length > 0 ? 0 : 3*R + 3; });\n",
       "\n",
       "  // Place the edges\n",
       "  var edgePaths = svg.selectAll(\"path\")\n",
       "    .data(edges)\n",
       "    .enter().append(\"path\")\n",
       "    .attr(\"class\", \"edge\")\n",
       "    .on(\"click\", function() {\n",
       "      d3.select(this).classed(\"highlight\", !d3.select(this).classed(\"highlight\")); })\n",
       "    .attr(\"d\", d3.svg.diagonal());\n",
       "}\n",
       "\n",
       "renderTree();\n",
       "highlightWords();\n",
       "});\n"
      ]
     },
     "metadata": {},
     "output_type": "display_data"
    }
   ],
   "source": [
    "R[0].render()"
   ]
  },
  {
   "cell_type": "code",
   "execution_count": 13,
   "metadata": {
    "collapsed": false
   },
   "outputs": [
    {
     "name": "stdout",
     "output_type": "stream",
     "text": [
      "Extracted 6437 features for each of 264 mentions\n"
     ]
    }
   ],
   "source": [
    "DDL = DDLiteModel(R)\n",
    "print \"Extracted {} features for each of {} mentions\".format(DDL.num_feats(), DDL.num_candidates())"
   ]
  },
  {
   "cell_type": "code",
   "execution_count": 17,
   "metadata": {
    "collapsed": false
   },
   "outputs": [
    {
     "name": "stdout",
     "output_type": "stream",
     "text": [
      "Making sure MindTagger is installed. Hang on!\n"
     ]
    },
    {
     "data": {
      "text/html": [
       "\n",
       "        <iframe\n",
       "            width=\"100%\"\n",
       "            height=\"1200\"\n",
       "            src=\"http://Jiaweis-MacBook-Pro.local:8197/#/mindtagger/1bc44dc1e278c0ef\"\n",
       "            frameborder=\"0\"\n",
       "            allowfullscreen\n",
       "        ></iframe>\n",
       "        "
      ],
      "text/plain": [
       "<IPython.lib.display.IFrame at 0x10a2d6050>"
      ]
     },
     "execution_count": 17,
     "metadata": {},
     "output_type": "execute_result"
    }
   ],
   "source": [
    "DDL.open_mindtagger(num_sample=20, width='100%', height=1200)"
   ]
  },
  {
   "cell_type": "code",
   "execution_count": 14,
   "metadata": {
    "collapsed": false
   },
   "outputs": [],
   "source": [
    "gold = np.zeros((DDL.num_candidates()))\n"
   ]
  },
  {
   "cell_type": "code",
   "execution_count": null,
   "metadata": {
    "collapsed": true
   },
   "outputs": [],
   "source": []
  }
 ],
 "metadata": {
  "kernelspec": {
   "display_name": "Python 2",
   "language": "python",
   "name": "python2"
  },
  "language_info": {
   "codemirror_mode": {
    "name": "ipython",
    "version": 2
   },
   "file_extension": ".py",
   "mimetype": "text/x-python",
   "name": "python",
   "nbconvert_exporter": "python",
   "pygments_lexer": "ipython2",
   "version": "2.7.11"
  }
 },
 "nbformat": 4,
 "nbformat_minor": 0
}
