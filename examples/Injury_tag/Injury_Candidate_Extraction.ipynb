{
 "cells": [
  {
   "cell_type": "code",
   "execution_count": 1,
   "metadata": {
    "collapsed": false
   },
   "outputs": [
    {
     "ename": "ImportError",
     "evalue": "No module named ddlite",
     "output_type": "error",
     "traceback": [
      "\u001b[0;31m---------------------------------------------------------------------------\u001b[0m",
      "\u001b[0;31mImportError\u001b[0m                               Traceback (most recent call last)",
      "\u001b[0;32m<ipython-input-1-776f9e074333>\u001b[0m in \u001b[0;36m<module>\u001b[0;34m()\u001b[0m\n\u001b[1;32m      5\u001b[0m \u001b[0msys\u001b[0m\u001b[0;34m.\u001b[0m\u001b[0mpath\u001b[0m\u001b[0;34m.\u001b[0m\u001b[0minsert\u001b[0m\u001b[0;34m(\u001b[0m\u001b[0;36m1\u001b[0m\u001b[0;34m,\u001b[0m \u001b[0mos\u001b[0m\u001b[0;34m.\u001b[0m\u001b[0mpath\u001b[0m\u001b[0;34m.\u001b[0m\u001b[0mjoin\u001b[0m\u001b[0;34m(\u001b[0m\u001b[0msys\u001b[0m\u001b[0;34m.\u001b[0m\u001b[0mpath\u001b[0m\u001b[0;34m[\u001b[0m\u001b[0;36m0\u001b[0m\u001b[0;34m]\u001b[0m\u001b[0;34m,\u001b[0m \u001b[0;34m'..'\u001b[0m\u001b[0;34m)\u001b[0m\u001b[0;34m)\u001b[0m\u001b[0;34m\u001b[0m\u001b[0m\n\u001b[1;32m      6\u001b[0m \u001b[0;34m\u001b[0m\u001b[0m\n\u001b[0;32m----> 7\u001b[0;31m \u001b[0;32mfrom\u001b[0m \u001b[0mddlite\u001b[0m \u001b[0;32mimport\u001b[0m \u001b[0;34m*\u001b[0m\u001b[0;34m\u001b[0m\u001b[0m\n\u001b[0m",
      "\u001b[0;31mImportError\u001b[0m: No module named ddlite"
     ]
    }
   ],
   "source": [
    "%load_ext autoreload\n",
    "%autoreload 2\n",
    "\n",
    "import cPickle, os, sys\n",
    "sys.path.insert(1, os.path.join(sys.path[0], '..'))\n",
    "\n",
    "from ddlite import *"
   ]
  },
  {
   "cell_type": "code",
   "execution_count": 2,
   "metadata": {
    "collapsed": false
   },
   "outputs": [],
   "source": [
    "datapath = '/Users/Jerry/Documents/CMPS290H/Project/data/dataset'\n",
    "dp = DocParser(datapath, TextParser())"
   ]
  },
  {
   "cell_type": "markdown",
   "metadata": {},
   "source": [
    "Now we'll use CoreNLP via ddlite's SentenceParser to parse each sentence. DocParser can handle this too; we didn't really need that call above. This can take a little while, so if the example has already been run, we'll reload it."
   ]
  },
  {
   "cell_type": "code",
   "execution_count": 4,
   "metadata": {
    "collapsed": false
   },
   "outputs": [
    {
     "name": "stdout",
     "output_type": "stream",
     "text": [
      "CPU times: user 5.63 s, sys: 199 ms, total: 5.83 s\n",
      "Wall time: 49.7 s\n"
     ]
    }
   ],
   "source": [
    "send_file = '/Users/Jerry/Documents/CMPS290H/Project/data/temp/news_saved_send_v1.pkl'\n",
    "try:\n",
    "    with open(send_file, 'rb') as f:\n",
    "        sents = cPickle.load(f)\n",
    "except:\n",
    "    %time sents = dp.parseDocSentences()\n",
    "    with open(send_file, 'w+') as f:\n",
    "        cPickle.dump(sents, f)"
   ]
  },
  {
   "cell_type": "code",
   "execution_count": 6,
   "metadata": {
    "collapsed": false
   },
   "outputs": [
    {
     "data": {
      "text/plain": [
       "Sentence(words=[u'--', u'Washington', u'Wizards', u'guard', u'Bradley', u'Beal', u'left', u'a', u'game', u'Saturday', u'night', u'against', u'the', u'Indiana', u'Pacers', u'midway', u'through', u'the', u'third', u'quarter', u'with', u'a', u'sprained', u'pelvis', u'and', u'is', u'doubtful', u'to', u'return', u'.'], lemmas=[u'--', u'Washington', u'Wizards', u'guard', u'Bradley', u'Beal', u'leave', u'a', u'game', u'Saturday', u'night', u'against', u'the', u'Indiana', u'Pacers', u'midway', u'through', u'the', u'third', u'quarter', u'with', u'a', u'sprained', u'pelvis', u'and', u'be', u'doubtful', u'to', u'return', u'.'], poses=[u':', u'NNP', u'NNPS', u'NN', u'NNP', u'NNP', u'VBD', u'DT', u'NN', u'NNP', u'NN', u'IN', u'DT', u'NNP', u'NNPS', u'NN', u'IN', u'DT', u'JJ', u'NN', u'IN', u'DT', u'JJ', u'NN', u'CC', u'VBZ', u'JJ', u'TO', u'VB', u'.'], dep_parents=[7, 6, 6, 6, 6, 7, 0, 9, 7, 11, 9, 16, 16, 16, 16, 11, 20, 20, 20, 7, 24, 24, 24, 7, 7, 27, 7, 29, 27, 7], dep_labels=[u'punct', u'compound', u'compound', u'compound', u'compound', u'nsubj', u'ROOT', u'det', u'dobj', u'compound', u'nmod:tmod', u'case', u'det', u'compound', u'compound', u'nmod', u'case', u'det', u'amod', u'nmod', u'case', u'det', u'amod', u'nmod', u'cc', u'cop', u'conj', u'mark', u'xcomp', u'punct'], sent_id=0, doc_id=0, text=u'\\u2014 Washington Wizards guard Bradley Beal left a game Saturday night against the Indiana Pacers midway through the third quarter with a sprained pelvis and is doubtful to return.', token_idxs=[0, 2, 13, 21, 27, 35, 40, 45, 47, 52, 61, 67, 75, 79, 87, 94, 101, 109, 113, 119, 127, 132, 134, 143, 150, 154, 157, 166, 169, 175])"
      ]
     },
     "execution_count": 6,
     "metadata": {},
     "output_type": "execute_result"
    }
   ],
   "source": [
    "sents[0]"
   ]
  },
  {
   "cell_type": "code",
   "execution_count": 12,
   "metadata": {
    "collapsed": true
   },
   "outputs": [],
   "source": [
    "injury_dict=[line.rstrip() for line in open('/Users/Jerry/Documents/CMPS290H/Project/data/dictionary/injury_dic.tsv')]\n",
    "injury_dm = DictionaryMatch(label='Injury part', dictionary=injury_dict, ignore_case=False)"
   ]
  },
  {
   "cell_type": "code",
   "execution_count": 15,
   "metadata": {
    "collapsed": false
   },
   "outputs": [],
   "source": [
    "E = Entities(sents, injury_dm)"
   ]
  },
  {
   "cell_type": "code",
   "execution_count": 19,
   "metadata": {
    "collapsed": false
   },
   "outputs": [
    {
     "data": {
      "text/html": [
       "<style>\n",
       ".node {\n",
       "  cursor: pointer;\n",
       "}\n",
       "\n",
       ".node circle {\n",
       "  fill: #fff;\n",
       "  stroke: steelblue;\n",
       "  stroke-width: 3px;\n",
       "}\n",
       "\n",
       ".node text {\n",
       "  font: 12px sans-serif;\n",
       "}\n",
       "\n",
       ".edge {\n",
       "  fill: none;\n",
       "  stroke: #ccc;\n",
       "  stroke-width: 2px;\n",
       "  cursor: pointer;\n",
       "}\n",
       "\n",
       ".highlight {\n",
       "  stroke: red;\n",
       "  stroke-width: 3px;\n",
       "}\n",
       "</style>\n",
       "\n",
       "<!--Provide the canvas id (twice) and the words via python string formatting here--!>\n",
       "<div id=\"tree-chart-2506616442563298310\"></div>\n",
       "<div id=\"raw-seq-2506616442563298310\">\n",
       "<span class=\"word-2506616442563298310-0\">But</span> <span class=\"word-2506616442563298310-1\">then</span> <span class=\"word-2506616442563298310-2\">coach</span> <span class=\"word-2506616442563298310-3\">David</span> <span class=\"word-2506616442563298310-4\">Joerger</span> <span class=\"word-2506616442563298310-5\">said</span> <span class=\"word-2506616442563298310-6\">during</span> <span class=\"word-2506616442563298310-7\">his</span> <span class=\"word-2506616442563298310-8\">pregame</span> <span class=\"word-2506616442563298310-9\">availability</span> <span class=\"word-2506616442563298310-10\">about</span> <span class=\"word-2506616442563298310-11\">90</span> <span class=\"word-2506616442563298310-12\">minutes</span> <span class=\"word-2506616442563298310-13\">before</span> <span class=\"word-2506616442563298310-14\">the</span> <span class=\"word-2506616442563298310-15\">opening</span> <span class=\"word-2506616442563298310-16\">tip</span> <span class=\"word-2506616442563298310-17\">that</span> <span class=\"word-2506616442563298310-18\">Randolph</span> <span class=\"word-2506616442563298310-19\">(</span> <span class=\"word-2506616442563298310-20\">knee</span> <span class=\"word-2506616442563298310-21\">)</span> <span class=\"word-2506616442563298310-22\">and</span> <span class=\"word-2506616442563298310-23\">Barnes</span> <span class=\"word-2506616442563298310-24\">(</span> <span class=\"word-2506616442563298310-25\">hamstring</span> <span class=\"word-2506616442563298310-26\">)</span> <span class=\"word-2506616442563298310-27\">will</span> <span class=\"word-2506616442563298310-28\">also</span> <span class=\"word-2506616442563298310-29\">rest</span> <span class=\"word-2506616442563298310-30\">.</span>\n",
       "</div>\n"
      ]
     },
     "metadata": {},
     "output_type": "display_data"
    },
    {
     "data": {
      "application/javascript": [
       "$.getScript(\"http://d3js.org/d3.v3.min.js\", function () {\n",
       "// See http://bl.ocks.org/d3noob/8375092\n",
       "// Three vars need to be provided via python string formatting:\n",
       "var chartId = \"2506616442563298310\";\n",
       "var root = {\"attrib\": {\"token_idx\": \"496\", \"word\": \"said\", \"dep_label\": \"ROOT\", \"pos\": \"VBD\", \"lemma\": \"say\", \"word_idx\": \"5\", \"dep_parent\": \"0\"}, \"children\": [{\"attrib\": {\"token_idx\": \"467\", \"word\": \"But\", \"dep_label\": \"cc\", \"pos\": \"CC\", \"lemma\": \"but\", \"word_idx\": \"0\", \"dep_parent\": \"6\"}, \"children\": []}, {\"attrib\": {\"token_idx\": \"471\", \"word\": \"then\", \"dep_label\": \"advmod\", \"pos\": \"RB\", \"lemma\": \"then\", \"word_idx\": \"1\", \"dep_parent\": \"6\"}, \"children\": []}, {\"attrib\": {\"token_idx\": \"488\", \"word\": \"Joerger\", \"dep_label\": \"nsubj\", \"pos\": \"NNP\", \"lemma\": \"Joerger\", \"word_idx\": \"4\", \"dep_parent\": \"6\"}, \"children\": [{\"attrib\": {\"token_idx\": \"476\", \"word\": \"coach\", \"dep_label\": \"compound\", \"pos\": \"NN\", \"lemma\": \"coach\", \"word_idx\": \"2\", \"dep_parent\": \"5\"}, \"children\": []}, {\"attrib\": {\"token_idx\": \"482\", \"word\": \"David\", \"dep_label\": \"compound\", \"pos\": \"NNP\", \"lemma\": \"David\", \"word_idx\": \"3\", \"dep_parent\": \"5\"}, \"children\": []}]}, {\"attrib\": {\"token_idx\": \"520\", \"word\": \"availability\", \"dep_label\": \"nmod\", \"pos\": \"NN\", \"lemma\": \"availability\", \"word_idx\": \"9\", \"dep_parent\": \"6\"}, \"children\": [{\"attrib\": {\"token_idx\": \"501\", \"word\": \"during\", \"dep_label\": \"case\", \"pos\": \"IN\", \"lemma\": \"during\", \"word_idx\": \"6\", \"dep_parent\": \"10\"}, \"children\": []}, {\"attrib\": {\"token_idx\": \"508\", \"word\": \"his\", \"dep_label\": \"nmod:poss\", \"pos\": \"PRP$\", \"lemma\": \"he\", \"word_idx\": \"7\", \"dep_parent\": \"10\"}, \"children\": []}, {\"attrib\": {\"token_idx\": \"512\", \"word\": \"pregame\", \"dep_label\": \"amod\", \"pos\": \"JJ\", \"lemma\": \"pregame\", \"word_idx\": \"8\", \"dep_parent\": \"10\"}, \"children\": []}, {\"attrib\": {\"token_idx\": \"542\", \"word\": \"minutes\", \"dep_label\": \"dep\", \"pos\": \"NNS\", \"lemma\": \"minute\", \"word_idx\": \"12\", \"dep_parent\": \"10\"}, \"children\": [{\"attrib\": {\"token_idx\": \"539\", \"word\": \"90\", \"dep_label\": \"nummod\", \"pos\": \"CD\", \"lemma\": \"90\", \"word_idx\": \"11\", \"dep_parent\": \"13\"}, \"children\": [{\"attrib\": {\"token_idx\": \"533\", \"word\": \"about\", \"dep_label\": \"advmod\", \"pos\": \"IN\", \"lemma\": \"about\", \"word_idx\": \"10\", \"dep_parent\": \"12\"}, \"children\": []}]}, {\"attrib\": {\"token_idx\": \"569\", \"word\": \"tip\", \"dep_label\": \"nmod\", \"pos\": \"NN\", \"lemma\": \"tip\", \"word_idx\": \"16\", \"dep_parent\": \"13\"}, \"children\": [{\"attrib\": {\"token_idx\": \"550\", \"word\": \"before\", \"dep_label\": \"case\", \"pos\": \"IN\", \"lemma\": \"before\", \"word_idx\": \"13\", \"dep_parent\": \"17\"}, \"children\": []}, {\"attrib\": {\"token_idx\": \"557\", \"word\": \"the\", \"dep_label\": \"det\", \"pos\": \"DT\", \"lemma\": \"the\", \"word_idx\": \"14\", \"dep_parent\": \"17\"}, \"children\": []}, {\"attrib\": {\"token_idx\": \"561\", \"word\": \"opening\", \"dep_label\": \"compound\", \"pos\": \"NN\", \"lemma\": \"opening\", \"word_idx\": \"15\", \"dep_parent\": \"17\"}, \"children\": []}, {\"attrib\": {\"token_idx\": \"627\", \"word\": \"rest\", \"dep_label\": \"acl:relcl\", \"pos\": \"VB\", \"lemma\": \"rest\", \"word_idx\": \"29\", \"dep_parent\": \"17\"}, \"children\": [{\"attrib\": {\"token_idx\": \"573\", \"word\": \"that\", \"dep_label\": \"dobj\", \"pos\": \"WDT\", \"lemma\": \"that\", \"word_idx\": \"17\", \"dep_parent\": \"30\"}, \"children\": []}, {\"attrib\": {\"token_idx\": \"578\", \"word\": \"Randolph\", \"dep_label\": \"nsubj\", \"pos\": \"NNP\", \"lemma\": \"Randolph\", \"word_idx\": \"18\", \"dep_parent\": \"30\"}, \"children\": [{\"attrib\": {\"token_idx\": \"588\", \"word\": \"knee\", \"dep_label\": \"appos\", \"pos\": \"NN\", \"lemma\": \"knee\", \"word_idx\": \"20\", \"dep_parent\": \"19\"}, \"children\": [{\"attrib\": {\"token_idx\": \"587\", \"word\": \"-LRB-\", \"dep_label\": \"punct\", \"pos\": \"-LRB-\", \"lemma\": \"-lrb-\", \"word_idx\": \"19\", \"dep_parent\": \"21\"}, \"children\": []}, {\"attrib\": {\"token_idx\": \"592\", \"word\": \"-RRB-\", \"dep_label\": \"punct\", \"pos\": \"-RRB-\", \"lemma\": \"-rrb-\", \"word_idx\": \"21\", \"dep_parent\": \"21\"}, \"children\": []}]}, {\"attrib\": {\"token_idx\": \"594\", \"word\": \"and\", \"dep_label\": \"cc\", \"pos\": \"CC\", \"lemma\": \"and\", \"word_idx\": \"22\", \"dep_parent\": \"19\"}, \"children\": []}, {\"attrib\": {\"token_idx\": \"598\", \"word\": \"Barnes\", \"dep_label\": \"conj\", \"pos\": \"NNP\", \"lemma\": \"Barnes\", \"word_idx\": \"23\", \"dep_parent\": \"19\"}, \"children\": [{\"attrib\": {\"token_idx\": \"606\", \"word\": \"hamstring\", \"dep_label\": \"appos\", \"pos\": \"VBG\", \"lemma\": \"hamstring\", \"word_idx\": \"25\", \"dep_parent\": \"24\"}, \"children\": [{\"attrib\": {\"token_idx\": \"605\", \"word\": \"-LRB-\", \"dep_label\": \"punct\", \"pos\": \"-LRB-\", \"lemma\": \"-lrb-\", \"word_idx\": \"24\", \"dep_parent\": \"26\"}, \"children\": []}, {\"attrib\": {\"token_idx\": \"615\", \"word\": \"-RRB-\", \"dep_label\": \"punct\", \"pos\": \"-RRB-\", \"lemma\": \"-rrb-\", \"word_idx\": \"26\", \"dep_parent\": \"26\"}, \"children\": []}]}]}]}, {\"attrib\": {\"token_idx\": \"617\", \"word\": \"will\", \"dep_label\": \"aux\", \"pos\": \"MD\", \"lemma\": \"will\", \"word_idx\": \"27\", \"dep_parent\": \"30\"}, \"children\": []}, {\"attrib\": {\"token_idx\": \"622\", \"word\": \"also\", \"dep_label\": \"advmod\", \"pos\": \"RB\", \"lemma\": \"also\", \"word_idx\": \"28\", \"dep_parent\": \"30\"}, \"children\": []}]}]}]}]}, {\"attrib\": {\"token_idx\": \"631\", \"word\": \".\", \"dep_label\": \"punct\", \"pos\": \".\", \"lemma\": \".\", \"word_idx\": \"30\", \"dep_parent\": \"6\"}, \"children\": []}]};\n",
       "var highlightIdxs = [[20]];\n",
       "\n",
       "// Highlight words / nodes\n",
       "var COLORS = [\"#ff5c33\", \"#ffcc00\", \"#33cc33\", \"#3399ff\"];\n",
       "function highlightWords() {\n",
       "  for (var i=0; i < highlightIdxs.length; i++) {\n",
       "    var c = COLORS[i];\n",
       "    var idxs = highlightIdxs[i];\n",
       "    for (var j=0; j < idxs.length; j++) {\n",
       "      d3.selectAll(\".word-\"+chartId+\"-\"+idxs[j]).style(\"stroke\", c).style(\"background\", c);\n",
       "    }\n",
       "  }\n",
       "}\n",
       "\n",
       "// Constants\n",
       "var margin = {top: 20, right: 20, bottom: 20, left: 20},\n",
       "width = 800 - margin.left - margin.right,\n",
       "height = 350 - margin.top - margin.bottom,\n",
       "R = 5;\n",
       "\n",
       "// Create the d3 tree object\n",
       "var tree = d3.layout.tree()\n",
       "  .size([width, height]);\n",
       "\n",
       "// Create the svg canvas\n",
       "var svg = d3.select(\"#tree-chart-\" + chartId)\n",
       "  .append(\"svg\")\n",
       "  .attr(\"width\", width + margin.left + margin.right)\n",
       "  .attr(\"height\", height + margin.top + margin.bottom)\n",
       "  .append(\"g\")\n",
       "  .attr(\"transform\", \"translate(\" + margin.left + \",\" + margin.top + \")\");\n",
       "\n",
       "function renderTree() {\n",
       "  var nodes = tree.nodes(root),\n",
       "  edges = tree.links(nodes);\n",
       "\n",
       "  // Place the nodes\n",
       "  var nodeGroups = svg.selectAll(\"g.node\")\n",
       "    .data(nodes)\n",
       "    .enter().append(\"g\")\n",
       "    .attr(\"class\", \"node\")\n",
       "    .attr(\"transform\", function(d) { return \"translate(\" + d.x + \",\" + d.y + \")\"; });\n",
       "       \n",
       "  // Append circles\n",
       "  nodeGroups.append(\"circle\")\n",
       "    //.on(\"click\", function() {\n",
       "    //  d3.select(this).classed(\"highlight\", !d3.select(this).classed(\"highlight\")); })\n",
       "    .attr(\"r\", R)\n",
       "    .attr(\"class\", function(d) { return \"word-\"+chartId+\"-\"+d.attrib.word_idx; });\n",
       "     \n",
       "  // Append the actual word\n",
       "  nodeGroups.append(\"text\")\n",
       "    .text(function(d) { return d.attrib.word; })\n",
       "    .attr(\"text-anchor\", function(d) { \n",
       "      return d.children && d.children.length > 0 ? \"start\" : \"middle\"; })\n",
       "    .attr(\"dx\", function(d) { \n",
       "      return d.children && d.children.length > 0 ? R + 3 : 0; })\n",
       "    .attr(\"dy\", function(d) { \n",
       "      return d.children && d.children.length > 0 ? 0 : 3*R + 3; });\n",
       "\n",
       "  // Place the edges\n",
       "  var edgePaths = svg.selectAll(\"path\")\n",
       "    .data(edges)\n",
       "    .enter().append(\"path\")\n",
       "    .attr(\"class\", \"edge\")\n",
       "    .on(\"click\", function() {\n",
       "      d3.select(this).classed(\"highlight\", !d3.select(this).classed(\"highlight\")); })\n",
       "    .attr(\"d\", d3.svg.diagonal());\n",
       "}\n",
       "\n",
       "renderTree();\n",
       "highlightWords();\n",
       "});\n"
      ]
     },
     "metadata": {},
     "output_type": "display_data"
    }
   ],
   "source": [
    "E[10].render()"
   ]
  },
  {
   "cell_type": "code",
   "execution_count": 20,
   "metadata": {
    "collapsed": true
   },
   "outputs": [],
   "source": [
    "E.dump_candidates('/Users/Jerry/Documents/CMPS290H/Project/data/temp/entity_saved_send_v1.pkl')"
   ]
  },
  {
   "cell_type": "code",
   "execution_count": null,
   "metadata": {
    "collapsed": true
   },
   "outputs": [],
   "source": []
  }
 ],
 "metadata": {
  "kernelspec": {
   "display_name": "Python 2",
   "language": "python",
   "name": "python2"
  },
  "language_info": {
   "codemirror_mode": {
    "name": "ipython",
    "version": 2
   },
   "file_extension": ".py",
   "mimetype": "text/x-python",
   "name": "python",
   "nbconvert_exporter": "python",
   "pygments_lexer": "ipython2",
   "version": "2.7.11"
  }
 },
 "nbformat": 4,
 "nbformat_minor": 0
}
